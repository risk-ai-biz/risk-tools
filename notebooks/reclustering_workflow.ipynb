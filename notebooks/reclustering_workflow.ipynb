{
 "cells": [
  {
   "cell_type": "markdown",
   "id": "c1c1124a",
   "metadata": {},
   "source": [
    "# Counterparty **Re‑clustering** Workflow\n",
    "This notebook demonstrates an end‑to‑end workflow for:\n",
    "1. **Rolling‑window re‑clustering** of equities trading counterparties.\n",
    "2. **Evaluating cluster quality** (silhouette, Davies‑Bouldin, etc.).\n",
    "3. **Tracking feature importance drift** over time.\n",
    "4. Identifying **emerging clusters** and intra‑cluster characteristics.\n",
    "\n",
    "It uses the `constrained_clustering` utility module we developed.\n",
    "Feel free to tweak window sizes, feature sets, or visual styles."
   ]
  },
  {
   "cell_type": "markdown",
   "id": "e8479930",
   "metadata": {},
   "source": [
    "## 0. Setup & dependencies\n",
    "Install any missing packages (run once):"
   ]
  },
  {
   "cell_type": "code",
   "execution_count": null,
   "id": "14409507",
   "metadata": {},
   "outputs": [],
   "source": [
    "## Uncomment if needed\n",
    "# !pip install polars scikit-learn xgboost matplotlib nbformat tqdm"
   ]
  },
  {
   "cell_type": "markdown",
   "id": "7b6908b7",
   "metadata": {},
   "source": [
    "## 1. Imports & data"
   ]
  },
  {
   "cell_type": "code",
   "execution_count": null,
   "id": "88d96864",
   "metadata": {},
   "outputs": [],
   "source": [
    "import polars as pl\n",
    "import numpy as np\n",
    "import matplotlib.pyplot as plt\n",
    "from pathlib import Path\n",
    "from tqdm.auto import tqdm\n",
    "\n",
    "import constrained_clustering as cc\n",
    "\n",
    "# Adjust the glob to your parquet location\n",
    "TRADE_GLOB = Path('/data/equities/trades_*.parquet')\n",
    "\n",
    "trades = cc.load_trade_history(str(TRADE_GLOB))\n",
    "print(f'Trades loaded: {trades.shape[0]:,}')"
   ]
  },
  {
   "cell_type": "markdown",
   "id": "ea42d933",
   "metadata": {},
   "source": [
    "## 2. Generate rolling windows"
   ]
  },
  {
   "cell_type": "code",
   "execution_count": null,
   "id": "fb959565",
   "metadata": {},
   "outputs": [],
   "source": [
    "# 90‑day windows stepped every 30 days\n",
    "windows = cc.generate_time_windows(trades, window_days=90, step_days=30)\n",
    "print(f'{len(windows)} windows spanning {windows[0][0].date()} – {windows[-1][1].date()}')"
   ]
  },
  {
   "cell_type": "markdown",
   "id": "5b588b68",
   "metadata": {},
   "source": [
    "## 3. Choose *k* (number of clusters) via silhouette"
   ]
  },
  {
   "cell_type": "code",
   "execution_count": null,
   "id": "f578410d",
   "metadata": {},
   "outputs": [],
   "source": [
    "k_range = range(4, 13)  # test 4–12 clusters\n",
    "silhouette_by_k = {k: [] for k in k_range}\n",
    "\n",
    "for start, end in tqdm(windows, desc='Windows'):\n",
    "    win_trades = trades.filter((pl.col('ts') >= start) & (pl.col('ts') < end))\n",
    "    if win_trades.is_empty():\n",
    "        continue\n",
    "    X, agg, _ = cc.build_counterparty_features(win_trades)\n",
    "    for k in k_range:\n",
    "        labels, _ = cc.cluster_counterparties(X, n_clusters=k, size_min=5)\n",
    "        sil = cc.evaluate_clustering(X, labels)['silhouette']\n",
    "        silhouette_by_k[k].append(sil)\n",
    "\n",
    "import pandas as pd\n",
    "sil_df = pd.DataFrame({k: v for k, v in silhouette_by_k.items()})\n",
    "sil_df.index.name = 'window_idx'\n",
    "sil_df.head()"
   ]
  },
  {
   "cell_type": "markdown",
   "id": "7e9a0c49",
   "metadata": {},
   "source": [
    "### 3.1 Silhouette distribution across *k*"
   ]
  },
  {
   "cell_type": "code",
   "execution_count": null,
   "id": "bf6d3ea4",
   "metadata": {},
   "outputs": [],
   "source": [
    "fig, ax = plt.subplots(figsize=(8, 4))\n",
    "ax.boxplot([sil_df[k].dropna() for k in k_range], labels=k_range, showfliers=False)\n",
    "ax.set_xlabel('Number of clusters (k)')\n",
    "ax.set_ylabel('Silhouette score')\n",
    "ax.set_title('Silhouette distribution over windows')\n",
    "plt.tight_layout()"
   ]
  },
  {
   "cell_type": "markdown",
   "id": "7b9aa038",
   "metadata": {},
   "source": [
    "## 4. Run full pipeline with selected *k*"
   ]
  },
  {
   "cell_type": "code",
   "execution_count": null,
   "id": "235702e6",
   "metadata": {},
   "outputs": [],
   "source": [
    "K_SELECTED = int(sil_df.mean().idxmax())  # best average silhouette\n",
    "print(f'Choosing k = {K_SELECTED}')\n",
    "\n",
    "results = cc.cluster_over_time(trades, windows,\n",
    "                               n_clusters=K_SELECTED,\n",
    "                               size_min=5,\n",
    "                               max_share=0.20)"
   ]
  },
  {
   "cell_type": "markdown",
   "id": "866930c1",
   "metadata": {},
   "source": [
    "## 5. Cluster stability metrics"
   ]
  },
  {
   "cell_type": "code",
   "execution_count": null,
   "id": "a2239ce4",
   "metadata": {},
   "outputs": [],
   "source": [
    "stability = cc.evaluate_stability_over_time(results)\n",
    "stability.head()"
   ]
  },
  {
   "cell_type": "markdown",
   "id": "0f557ba5",
   "metadata": {},
   "source": [
    "### 5.1 Plot Adjusted Rand & silhouette over time"
   ]
  },
  {
   "cell_type": "code",
   "execution_count": null,
   "id": "608d8193",
   "metadata": {},
   "outputs": [],
   "source": [
    "fig, ax = plt.subplots(figsize=(9, 4))\n",
    "ax.plot(stability['window_end'], stability['adjusted_rand'], marker='o')\n",
    "ax.set_xlabel('Window end date')\n",
    "ax.set_ylabel('Adjusted Rand index')\n",
    "ax.set_title('Cross‑window cluster stability')\n",
    "plt.xticks(rotation=45)\n",
    "plt.tight_layout()"
   ]
  },
  {
   "cell_type": "markdown",
   "id": "11b8ca07",
   "metadata": {},
   "source": [
    "## 6. Feature importance drift (XGBoost)"
   ]
  },
  {
   "cell_type": "code",
   "execution_count": null,
   "id": "5e75da6c",
   "metadata": {},
   "outputs": [],
   "source": [
    "import xgboost as xgb\n",
    "\n",
    "feat_cols = ['avg_pnl', 'std_pnl', 'tot_ntl', 'trade_count', 'avg_participation']\n",
    "fi_over_time = {c: [] for c in feat_cols}\n",
    "\n",
    "for res in tqdm(results, desc='Windows (XGB)'):\n",
    "    X = res.agg.select(feat_cols).to_numpy()\n",
    "    y = res.labels\n",
    "    model = xgb.XGBClassifier(max_depth=3, n_estimators=100, learning_rate=0.1)\n",
    "    model.fit(X, y)\n",
    "    importances = model.feature_importances_\n",
    "    for c, imp in zip(feat_cols, importances):\n",
    "        fi_over_time[c].append(imp)\n",
    "\n",
    "fi_df = pd.DataFrame(fi_over_time)\n",
    "fi_df.head()"
   ]
  },
  {
   "cell_type": "markdown",
   "id": "e2c1b7e4",
   "metadata": {},
   "source": [
    "### 6.1 Plot top‑3 features importance trend"
   ]
  },
  {
   "cell_type": "code",
   "execution_count": null,
   "id": "83942b12",
   "metadata": {},
   "outputs": [],
   "source": [
    "top_feats = fi_df.mean().sort_values(ascending=False).head(3).index\n",
    "fig, ax = plt.subplots(figsize=(9, 4))\n",
    "for c in top_feats:\n",
    "    ax.plot(fi_df.index, fi_df[c], marker='o', label=c)\n",
    "ax.set_xlabel('Window index')\n",
    "ax.set_ylabel('Gain importance')\n",
    "ax.set_title('Top‑3 feature importance drift')\n",
    "ax.legend()\n",
    "plt.tight_layout()"
   ]
  },
  {
   "cell_type": "markdown",
   "id": "04212a30",
   "metadata": {},
   "source": [
    "## 7. Intra‑cluster feature distributions (latest window)"
   ]
  },
  {
   "cell_type": "code",
   "execution_count": null,
   "id": "13c9594e",
   "metadata": {},
   "outputs": [],
   "source": [
    "latest = results[-1]\n",
    "clusters = np.unique(latest.labels)\n",
    "fig, axes = plt.subplots(len(clusters), 3, figsize=(9, 3*len(clusters)), sharex=False)\n",
    "for i, k in enumerate(clusters):\n",
    "    mask = latest.labels == k\n",
    "    subset = latest.agg.filter(mask)\n",
    "    axes[i, 0].hist(subset['avg_pnl'], bins=30)\n",
    "    axes[i, 0].set_ylabel(f'Cluster {k}')\n",
    "    axes[i, 1].hist(subset['std_pnl'], bins=30)\n",
    "    axes[i, 2].hist(subset['tot_ntl'], bins=30)\n",
    "axes[0, 0].set_title('avg_pnl')\n",
    "axes[0, 1].set_title('std_pnl')\n",
    "axes[0, 2].set_title('tot_ntl')\n",
    "plt.tight_layout()"
   ]
  },
  {
   "cell_type": "markdown",
   "id": "5d340931",
   "metadata": {},
   "source": [
    "## 8. Emerging clusters\n",
    "Identify clusters that have grown by >50 % in counterparties or notional since the previous window."
   ]
  },
  {
   "cell_type": "code",
   "execution_count": null,
   "id": "c2b33aa7",
   "metadata": {},
   "outputs": [],
   "source": [
    "emerging = []\n",
    "for prev, curr in zip(results[:-1], results[1:]):\n",
    "    prev_df = prev.summary.to_pandas().set_index('cluster_notional').sort_index()\n",
    "    curr_df = curr.summary.to_pandas().set_index('cluster_notional').sort_index()\n",
    "    common = prev_df.index.intersection(curr_df.index)\n",
    "    growth = (curr_df.loc[common]['n_counterparties'] - prev_df.loc[common]['n_counterparties']) / prev_df.loc[common]['n_counterparties']\n",
    "    big = growth[growth > 0.5]\n",
    "    if not big.empty:\n",
    "        emerging.append({'window_end': curr.end, 'clusters': big.index.tolist(), 'growth': big.values.tolist()})\n",
    "\n",
    "pd.DataFrame(emerging)"
   ]
  },
  {
   "cell_type": "markdown",
   "id": "fcb53d1e",
   "metadata": {},
   "source": [
    "---\n",
    "### Next steps\n",
    "* Tune `size_min`, `max_share`, or window specs.\n",
    "* Push summary tables into your reporting layer (Dash, Superset, etc.).\n",
    "* Automate re‑clustering on a schedule with your simulator back‑tests."
   ]
  }
 ],
 "metadata": {
  "kernelspec": {
   "language": "python",
   "name": "python3"
  }
 },
 "nbformat": 4,
 "nbformat_minor": 5
}
